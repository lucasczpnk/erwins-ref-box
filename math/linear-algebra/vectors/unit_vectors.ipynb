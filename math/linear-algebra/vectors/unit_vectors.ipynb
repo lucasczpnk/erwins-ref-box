{
 "cells": [
  {
   "cell_type": "markdown",
   "metadata": {},
   "source": [
    "# UNIT VECTOR CASE STUDIES"
   ]
  },
  {
   "cell_type": "markdown",
   "metadata": {},
   "source": [
    "#### [ HOW TO FIND UNIT VECTOR ]\n",
    "\n",
    "#### vector def\n",
    "    v = ( i , j )\n",
    "    \n",
    "#### vector magnitude\n",
    "    ||v|| =  sq( pow(i,2) + pow(j,2) )\n",
    "\n",
    "#### unit vector def [ û = 1 ]\n",
    "    û = ( i/||v|| , j/||v|| )\n",
    "    \n",
    "#### unit vector magnitude\n",
    "    ||û|| = sq(\n",
    "                pow(i) / pow(||v||) + pow(j) / pow(||v||)\n",
    "            )\n",
    "    ||û|| == 1    "
   ]
  },
  {
   "cell_type": "code",
   "execution_count": 15,
   "metadata": {},
   "outputs": [],
   "source": [
    "import math\n",
    "# import matplotlib"
   ]
  },
  {
   "cell_type": "code",
   "execution_count": 16,
   "metadata": {},
   "outputs": [],
   "source": [
    "def f_to_float(frac_str):\n",
    "    \"\"\" converts fraction to float \"\"\"\n",
    "    try:\n",
    "        return float(frac_str)\n",
    "    except ValueError:\n",
    "        num, denom = frac_str.split('/')\n",
    "        try:\n",
    "            leading, num = num.split(' ')\n",
    "            whole = float(leading)\n",
    "        except ValueError:\n",
    "            whole = 0\n",
    "        frac = float(num) / float(denom)\n",
    "        return whole - frac if whole < 0 else whole + frac\n",
    "    \n",
    "def vec(i,j):\n",
    "    \"\"\" print vector info \"\"\"\n",
    "    return print('v = ({}, {})'.format(i,j))\n",
    "\n",
    "def vec_mag(vm):\n",
    "    \"\"\" print vector magnitude info \"\"\"\n",
    "    return print ('\\n||v|| = {}'.format(vm))\n",
    "\n",
    "def unit_vec(ui,uj):\n",
    "    \"\"\" print unit vector info \"\"\"\n",
    "    return print('\\nû = ({}, {})'.format(ui,uj))\n",
    "\n",
    "def unit_vec_mag(um):\n",
    "    \"\"\" print unit vector magnitute info \"\"\"\n",
    "    return print('\\n||û|| = {}'.format(um))\n",
    "    \n",
    "# horizontal unit vector (1,0)\n",
    "i = lambda u : pow(u, 2)\n",
    "\n",
    "# vertical unit vector (0,1)\n",
    "j = lambda x : pow(x, 2)\n",
    "\n",
    "# simplified syntax for math.sqrt\n",
    "sq = math.sqrt"
   ]
  },
  {
   "cell_type": "code",
   "execution_count": 5,
   "metadata": {},
   "outputs": [
    {
     "name": "stdout",
     "output_type": "stream",
     "text": [
      "v = (-3, 8)\n",
      "\n",
      "||v|| = 8.54400374531753\n",
      "\n",
      "û = (-3/8.54400374531753, 8/8.54400374531753)\n",
      "\n",
      "case-a uv = 7.416198487095663 <-> 8.54400374531753 | vm1r==ca : False\n",
      "\n",
      "case-b uv = 8.54400374531753 <-> 8.54400374531753 | vm1r==cb : True\n",
      "CASE B = TRUE\n",
      "\n",
      "||û|| = 1.0\n"
     ]
    }
   ],
   "source": [
    "# v = (−3,8) > find the unit vector of the v vector\n",
    "\n",
    "i1 = -3\n",
    "j1 = 8\n",
    "vec(i1,j1)\n",
    "\n",
    "# ||v|| = ?\n",
    "vm1 = i(i1) + j(j1)\n",
    "vm1r = sq(vm1)\n",
    "vec_mag(vm1r)\n",
    "\n",
    "# û = ?\n",
    "ui1 = '{}/{}'.format(i1,vm1r)\n",
    "uj1 = '{}/{}'.format(j1,vm1r)\n",
    "unit_vec(ui1, uj1)\n",
    "\n",
    "# validate results\n",
    "# case a | ( -3/sq(55), 8/sq(55) )\n",
    "ca = sq(55)\n",
    "print( '\\ncase-a uv = {} <-> {} | vm1r==ca : {}'.format(ca,vm1r,vm1r == ca))\n",
    "\n",
    "# case b | ( -3/sq(73), 8/sq(73) ) OOOOOK\n",
    "cb = sq(73)\n",
    "print( '\\ncase-b uv = {} <-> {} | vm1r==cb : {}'.format(cb,vm1r,vm1r == cb))\n",
    "print('CASE B = TRUE')\n",
    "\n",
    "# ||û|| = ?\n",
    "um1 = pow((i1/vm1r),2) + pow((j1/vm1r), 2)\n",
    "unit_vec_mag(um1)"
   ]
  },
  {
   "cell_type": "code",
   "execution_count": 6,
   "metadata": {},
   "outputs": [
    {
     "name": "stdout",
     "output_type": "stream",
     "text": [
      "v = (6, 6)\n",
      "\n",
      "||v|| = 8.48528137423857\n",
      "\n",
      "û = (6/8.48528137423857, 6/8.48528137423857)\n",
      "\n",
      "||û|| = 1.0000000000000002\n"
     ]
    }
   ],
   "source": [
    "# v = (6,6) > find the unit vector of the v vector\n",
    "i2 = 6\n",
    "j2 = 6\n",
    "vec(i2,j2)\n",
    "\n",
    "# ||v|| = ?\n",
    "vm2 = pow(i2,2) + pow(j2,2)\n",
    "vm2r = sq(vm2)\n",
    "vec_mag(vm2r)\n",
    "\n",
    "# û = ?\n",
    "ui2 = '{}/{}'.format(i2,vm2r)\n",
    "uj2 = '{}/{}'.format(j2,vm2r)\n",
    "unit_vec(ui2, uj2)\n",
    "\n",
    "# ||û|| = ?\n",
    "um2 = pow((i2/vm2r),2) + pow((j2/vm2r), 2)\n",
    "unit_vec_mag(um2)"
   ]
  },
  {
   "cell_type": "code",
   "execution_count": 7,
   "metadata": {},
   "outputs": [
    {
     "name": "stdout",
     "output_type": "stream",
     "text": [
      "v = (-2, -2)\n",
      "\n",
      "||v|| = 2.8284271247461903\n",
      "\n",
      "û = (-2/2.8284271247461903, -2/2.8284271247461903)\n",
      "\n",
      "||û|| = 0.9999999999999998\n",
      "\n",
      "case-a uma = 0.9999999999999999 <-> 0.9999999999999998 | um==ca : False\n",
      "CASE A = TRUE\n"
     ]
    }
   ],
   "source": [
    "# v = (-2,-2) > find the unit vector of the v vector\n",
    "\n",
    "i3 = -2\n",
    "j3 = -2\n",
    "vec(i3,j3)\n",
    "\n",
    "# ||v|| = ?\n",
    "vm3 = i(i3) + j(j3)\n",
    "vm3r = sq(vm3)\n",
    "vec_mag(vm3r)\n",
    "\n",
    "# û = ?\n",
    "ui3 = '{}/{}'.format(i3,vm3r)\n",
    "uj3 = '{}/{}'.format(j3,vm3r)\n",
    "unit_vec(ui3, uj3)\n",
    "\n",
    "# ||û|| = ?\n",
    "um3 = pow((i3/vm3r),2) + pow((j3/vm3r), 2)\n",
    "unit_vec_mag(um3)\n",
    "\n",
    "# validate results\n",
    "# case a | (2/sq(8)) 2/sq(8)) )\n",
    "ca = (2/sq(8))**2 + (2/sq(8))**2\n",
    "uma = sq(ca)\n",
    "print( '\\ncase-a uma = {} <-> {} | um==ca : {}'.format(uma,um3,uma == um3))\n",
    "print('CASE A = TRUE')"
   ]
  },
  {
   "cell_type": "code",
   "execution_count": 8,
   "metadata": {},
   "outputs": [
    {
     "name": "stdout",
     "output_type": "stream",
     "text": [
      "v = (8, 9)\n",
      "\n",
      "||v|| = 12.041594578792296\n",
      "\n",
      "û = (8/12.041594578792296, 9/12.041594578792296)\n",
      "\n",
      "||û|| = 1.0\n"
     ]
    }
   ],
   "source": [
    "# v = (8,9) > find the unit vector of the v vector\n",
    "i4 = 8\n",
    "j4 = 9\n",
    "vec(i4,j4)\n",
    "\n",
    "# ||v|| = ?\n",
    "vm4 = pow(i4,2) + pow(j4,2)\n",
    "vm4r = sq(vm4)\n",
    "vec_mag(vm4r)\n",
    "\n",
    "# û = ?\n",
    "ui4 = '{}/{}'.format(i4,vm4r)\n",
    "uj4 = '{}/{}'.format(j4,vm4r)\n",
    "unit_vec(ui4, uj4)\n",
    "\n",
    "# ||û|| = ?\n",
    "um4 = pow((i4/vm4r),2) + pow((j4/vm4r), 2)\n",
    "unit_vec_mag(um4)"
   ]
  },
  {
   "cell_type": "code",
   "execution_count": 9,
   "metadata": {},
   "outputs": [
    {
     "name": "stdout",
     "output_type": "stream",
     "text": [
      "v = (-7, 6)\n",
      "\n",
      "||v|| = 9.219544457292887\n",
      "\n",
      "û = (-7/9.219544457292887, 6/9.219544457292887)\n",
      "\n",
      "||û|| = 1.0\n",
      "\n",
      "case-a uma = 1.0 <-> 1.0 | um==ca : True\n",
      "CASE A = TRUE\n"
     ]
    }
   ],
   "source": [
    "# v = (-7,6) > find the unit vector of the v vector\n",
    "\n",
    "i5 = -7\n",
    "j5 = 6\n",
    "vec(i5,j5)\n",
    "\n",
    "# ||v|| = ?\n",
    "vm5 = i(i5) + j(j5)\n",
    "vm5r = sq(vm5)\n",
    "vec_mag(vm5r)\n",
    "\n",
    "# û = ?\n",
    "ui5 = '{}/{}'.format(i5,vm5r)\n",
    "uj5 = '{}/{}'.format(j5,vm5r)\n",
    "unit_vec(ui5, uj5)\n",
    "\n",
    "# ||û|| = ?\n",
    "um5 = pow((i5/vm5r),2) + pow((j5/vm5r), 2)\n",
    "unit_vec_mag(um5)\n",
    "\n",
    "# validate results\n",
    "# case a | ( -7/sq(85), 6/sq(85) )\n",
    "ca = (-7/sq(85))**2 + (6/sq(85))**2\n",
    "uma = sq(ca)\n",
    "print( '\\ncase-a uma = {} <-> {} | um==ca : {}'.format(uma,um5,uma == um5))\n",
    "print('CASE A = TRUE')"
   ]
  },
  {
   "cell_type": "code",
   "execution_count": 10,
   "metadata": {},
   "outputs": [
    {
     "name": "stdout",
     "output_type": "stream",
     "text": [
      "v = (12, -5)\n",
      "\n",
      "||v|| = 13.0\n",
      "\n",
      "û = (12/13.0, -5/13.0)\n",
      "\n",
      "||û|| = 1.0000000000000002\n"
     ]
    }
   ],
   "source": [
    "# v = ( 12, -5 ) > find the unit vector of the v vector\n",
    "i6 = 12\n",
    "j6 = -5\n",
    "vec(i6,j6)\n",
    "\n",
    "# ||v|| = ?\n",
    "vm6 = pow(i6,2) + pow(j6,2)\n",
    "vm6r = sq(vm6)\n",
    "vec_mag(vm6r)\n",
    "\n",
    "# û = ?\n",
    "ui6 = '{}/{}'.format(i6,vm6r)\n",
    "uj6 = '{}/{}'.format(j6,vm6r)\n",
    "unit_vec(ui6, uj6)\n",
    "\n",
    "# ||û|| = ?\n",
    "um6 = pow((i6/vm6r),2) + pow((j6/vm6r), 2)\n",
    "unit_vec_mag(um6)"
   ]
  },
  {
   "cell_type": "code",
   "execution_count": 11,
   "metadata": {},
   "outputs": [
    {
     "name": "stdout",
     "output_type": "stream",
     "text": [
      "v = (-1, -7)\n",
      "\n",
      "||v|| = 7.0710678118654755\n",
      "\n",
      "û = (-1/7.0710678118654755, -7/7.0710678118654755)\n",
      "\n",
      "||û|| = 0.9999999999999999\n",
      "\n",
      "case-a uma = 0.9999999999999999 <-> 0.9999999999999999 | um==ca : True\n",
      "CASE A = TRUE\n"
     ]
    }
   ],
   "source": [
    "# v = ( -1, -7 ) > find the unit vector of the v vector\n",
    "\n",
    "i7 = -1\n",
    "j7 = -7\n",
    "vec(i7,j7)\n",
    "\n",
    "# ||v|| = ?\n",
    "vm7 = i(i7) + j(j7)\n",
    "vm7r = sq(vm7)\n",
    "vec_mag(vm7r)\n",
    "\n",
    "# û = ?\n",
    "ui7 = '{}/{}'.format(i7,vm7r)\n",
    "uj7 = '{}/{}'.format(j7,vm7r)\n",
    "unit_vec(ui7, uj7)\n",
    "\n",
    "# ||û|| = ?\n",
    "um7 = pow((i7/vm7r),2) + pow((j7/vm7r), 2)\n",
    "unit_vec_mag(um7)\n",
    "\n",
    "# validate results\n",
    "# case a | ( -1/sq(50), -7/sq(50) )\n",
    "ca = (-1/sq(50))**2 + (-7/sq(50))**2\n",
    "uma = sq(ca)\n",
    "print( '\\ncase-a uma = {} <-> {} | um==ca : {}'.format(uma,um7,uma == um7))\n",
    "print('CASE A = TRUE')"
   ]
  },
  {
   "cell_type": "code",
   "execution_count": 12,
   "metadata": {},
   "outputs": [
    {
     "name": "stdout",
     "output_type": "stream",
     "text": [
      "v = (7, -3)\n",
      "\n",
      "||v|| = 7.615773105863909\n",
      "\n",
      "û = (7/7.615773105863909, -3/7.615773105863909)\n",
      "\n",
      "||û|| = 0.9999999999999998\n"
     ]
    }
   ],
   "source": [
    "# v = ( 7, -3 ) > find the unit vector of the v vector\n",
    "i8 = 7\n",
    "j8 = -3\n",
    "vec(i8,j8)\n",
    "\n",
    "# ||v|| = ?\n",
    "vm8 = pow(i8,2) + pow(j8,2)\n",
    "vm8r = sq(vm8)\n",
    "vec_mag(vm8r)\n",
    "\n",
    "# û = ?\n",
    "ui8 = '{}/{}'.format(i8,vm8r)\n",
    "uj8 = '{}/{}'.format(j8,vm8r)\n",
    "unit_vec(ui8, uj8)\n",
    "\n",
    "# ||û|| = ?\n",
    "um8 = pow((i8/vm8r),2) + pow((j8/vm8r), 2)\n",
    "unit_vec_mag(um8)"
   ]
  }
 ],
 "metadata": {
  "kernelspec": {
   "display_name": "Python 3",
   "language": "python",
   "name": "python3"
  },
  "language_info": {
   "codemirror_mode": {
    "name": "ipython",
    "version": 3
   },
   "file_extension": ".py",
   "mimetype": "text/x-python",
   "name": "python",
   "nbconvert_exporter": "python",
   "pygments_lexer": "ipython3",
   "version": "3.6.9"
  }
 },
 "nbformat": 4,
 "nbformat_minor": 4
}
